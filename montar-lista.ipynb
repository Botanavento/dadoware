{
 "cells": [
  {
   "cell_type": "markdown",
   "metadata": {},
   "source": [
    "# Montar lista de palavras"
   ]
  },
  {
   "cell_type": "code",
   "execution_count": 1,
   "metadata": {
    "collapsed": false
   },
   "outputs": [
    {
     "data": {
      "text/plain": [
       "(6623,\n",
       " ['a',\n",
       "  'aba',\n",
       "  'abacaxi',\n",
       "  'abade',\n",
       "  'abadia',\n",
       "  'abafado',\n",
       "  'abafar',\n",
       "  'abaixar',\n",
       "  'abaixo',\n",
       "  'abajur'],\n",
       " ['zoada',\n",
       "  'zombar',\n",
       "  'zona',\n",
       "  'zoom',\n",
       "  'zorro',\n",
       "  'zulu',\n",
       "  'zumbido',\n",
       "  'zumbir',\n",
       "  'zunir',\n",
       "  'zunzum'])"
      ]
     },
     "execution_count": 1,
     "metadata": {},
     "output_type": "execute_result"
    }
   ],
   "source": [
    "with open('fontes/filtered.txt', encoding='ascii') as fp:\n",
    "    filtradas = [lin.strip() for lin in fp]\n",
    "\n",
    "len(filtradas), filtradas[:10], filtradas[-10:]"
   ]
  },
  {
   "cell_type": "code",
   "execution_count": 2,
   "metadata": {
    "collapsed": false
   },
   "outputs": [
    {
     "data": {
      "text/plain": [
       "(993,\n",
       " ['0', '1', '2', '3', '4', '5', '6', '7', '8', '9'],\n",
       " ['zs', 'zt', 'zu', 'zv', 'zw', 'zx', 'zy', 'zz', 'zzz', 'zzzz'])"
      ]
     },
     "execution_count": 2,
     "metadata": {},
     "output_type": "execute_result"
    }
   ],
   "source": [
    "with open('fontes/dicewarekit.txt', encoding='ascii') as fp:\n",
    "    dwkit = [lin.strip() for lin in fp if lin.strip()]\n",
    "\n",
    "len(dwkit), dwkit[:10], dwkit[-10:]    "
   ]
  },
  {
   "cell_type": "code",
   "execution_count": 3,
   "metadata": {
    "collapsed": false
   },
   "outputs": [
    {
     "data": {
      "text/plain": [
       "(7527, -249)"
      ]
     },
     "execution_count": 3,
     "metadata": {},
     "output_type": "execute_result"
    }
   ],
   "source": [
    "comkit = set(filtradas) | set(dwkit)\n",
    "len(comkit), len(comkit) - 6**5"
   ]
  },
  {
   "cell_type": "code",
   "execution_count": 4,
   "metadata": {
    "collapsed": false
   },
   "outputs": [
    {
     "data": {
      "text/plain": [
       "['alfa', 'bravo']"
      ]
     },
     "execution_count": 4,
     "metadata": {},
     "output_type": "execute_result"
    }
   ],
   "source": [
    "def so_ascii(palavras):\n",
    "    ok = []\n",
    "    for palavra in palavras:\n",
    "        try:\n",
    "            palavra.encode('ASCII')\n",
    "        except UnicodeEncodeError:\n",
    "            continue\n",
    "        ok.append(palavra)\n",
    "    return ok\n",
    "        \n",
    "so_ascii('alfa ação bravo'.split())\n",
    "        "
   ]
  },
  {
   "cell_type": "code",
   "execution_count": 5,
   "metadata": {
    "collapsed": false
   },
   "outputs": [
    {
     "data": {
      "text/plain": [
       "(238,\n",
       " 'AC AL AP AM BA CE DF ES GO MA MT MS MG PA PB PR PE PI RJ RN RS RO RR SC SP SE TO ABCD BC CEP CLT CNH CNPJ CPI CPF CRT CV DARF DDD DDI ENEM FTW GIF HDMI HDTV HTTP IDH IMC IRPJ LCD MASP MMDC NF OK OVNI PVT RSVP SKU SLA SQN SSP STF STJ STL SVG TRE TSE UF UFO VGA alfa bravo charlie delta echo foxtrot golf hotel india juliet kilo lima mike november oscar papa quebec romeo sierra tango uniform victor whiskey x-ray yankee zulu amor bandeira cobra dado estrela feira goiaba hotel kiwi lua maria navio ouro pipa quilombo raiz saci tatu uva wilson xadrez yes zebra H He Li Be B C N O F Ne Na Mg Al Si P S Cl Ar K Ca Sc Ti V Cr Mn Fe Co Ni Cu Zn Ga Ge As Se Br Kr Rb Sr Y Zr Nb Mo Tc Ru Rh Pd Ag Cd In Sn Sb Te I Xe Cs Ba La Ce Pr Nd Pm Sm Eu Gd Tb Dy Ho Er Tm Yb Lu Hf Ta W Re Os Ir Pt Au Hg Tl Pb Bi Po At Rn Fr Ra Ac Th Pa U Np Pu Am Cm Bk Cf Es Fm Md No Lr Rf Db Sg Bh Hs Mt Ds Rg Cn Uut Fl Uup Lv Uus Uuo correto')"
      ]
     },
     "execution_count": 5,
     "metadata": {},
     "output_type": "execute_result"
    }
   ],
   "source": [
    "with open('fontes/molho-especial.txt', encoding='utf8') as fp:\n",
    "    molho = []\n",
    "    for lin in (l.strip() for l in fp):\n",
    "        if not lin or lin.startswith('#'):\n",
    "            continue\n",
    "        molho.extend(lin.split())\n",
    "\n",
    "molho = so_ascii(molho)\n",
    "len(molho), ' '.join(molho)"
   ]
  },
  {
   "cell_type": "code",
   "execution_count": 6,
   "metadata": {
    "collapsed": false
   },
   "outputs": [
    {
     "data": {
      "text/plain": [
       "['2a-feira', '3a-feira', '4a-feira', '5a-feira', '6a-feira']"
      ]
     },
     "execution_count": 6,
     "metadata": {},
     "output_type": "execute_result"
    }
   ],
   "source": [
    "anos = [str(ano) for ano in range(1960, 2021)]\n",
    "dias = ['{}a-feira'.format(i) for i in range(2, 7)]\n",
    "dias"
   ]
  },
  {
   "cell_type": "code",
   "execution_count": 7,
   "metadata": {
    "collapsed": false
   },
   "outputs": [
    {
     "data": {
      "text/plain": [
       "'I II III IV V VI VII VIII IX X XI XII XIII XIV XV XVI XVII XVIII XIX XX XXI M CM D CD C XC L XL X IX V IV I'"
      ]
     },
     "execution_count": 7,
     "metadata": {},
     "output_type": "execute_result"
    }
   ],
   "source": [
    "romanNumeralMap = (('M',  1000),\n",
    "                   ('CM', 900),\n",
    "                   ('D',  500),\n",
    "                   ('CD', 400),\n",
    "                   ('C',  100),\n",
    "                   ('XC', 90),\n",
    "                   ('L',  50),\n",
    "                   ('XL', 40),\n",
    "                   ('X',  10),\n",
    "                   ('IX', 9),\n",
    "                   ('V',  5),\n",
    "                   ('IV', 4),\n",
    "                   ('I',  1))\n",
    "\n",
    "def toRoman(n):\n",
    "    result = ''\n",
    "    for numeral, integer in romanNumeralMap:\n",
    "        while n >= integer:\n",
    "            result += numeral\n",
    "            n -= integer\n",
    "    return result\n",
    "\n",
    "romanos = [toRoman(i) for i in range(1, 22)]\n",
    "romanos.extend(r[0] for r in romanNumeralMap)\n",
    "' '.join(romanos)"
   ]
  },
  {
   "cell_type": "code",
   "execution_count": 8,
   "metadata": {
    "collapsed": true
   },
   "outputs": [],
   "source": [
    "adicoes = set(molho + anos + dias + romanos + ['correto'])"
   ]
  },
  {
   "cell_type": "code",
   "execution_count": 9,
   "metadata": {
    "collapsed": false
   },
   "outputs": [
    {
     "data": {
      "text/plain": [
       "(7804, 52)"
      ]
     },
     "execution_count": 9,
     "metadata": {},
     "output_type": "execute_result"
    }
   ],
   "source": [
    "len(adicoes | comkit), len(adicoes & comkit)"
   ]
  },
  {
   "cell_type": "code",
   "execution_count": 10,
   "metadata": {
    "collapsed": false
   },
   "outputs": [
    {
     "data": {
      "text/plain": [
       "7776"
      ]
     },
     "execution_count": 10,
     "metadata": {},
     "output_type": "execute_result"
    }
   ],
   "source": [
    "import itertools\n",
    "dados5 = list(''.join(dados) for dados in itertools.product('123456', repeat=5))\n",
    "len(dados5)"
   ]
  },
  {
   "cell_type": "code",
   "execution_count": 11,
   "metadata": {
    "collapsed": false
   },
   "outputs": [
    {
     "name": "stdout",
     "output_type": "stream",
     "text": [
      " 7776 15552 95235 dadoware.txt\r\n"
     ]
    }
   ],
   "source": [
    "import string\n",
    "\n",
    "minusculas = set(string.ascii_lowercase + '-/')\n",
    "\n",
    "def ordem(palavra):\n",
    "    palavra = palavra.lower()\n",
    "    if set(palavra) - minusculas:\n",
    "        if palavra[0] in string.digits:\n",
    "            try:\n",
    "                n = int(palavra)\n",
    "            except ValueError:\n",
    "                palavra = '~' + palavra\n",
    "            else:\n",
    "                palavra = '~~{:20f}'.format(n)\n",
    "        else:\n",
    "            palavra = '~~~' + palavra\n",
    "    if palavra[0] == '-':\n",
    "       palavra = '~~~~' + palavra\n",
    "    return palavra\n",
    "    \n",
    "descarte = set('ser/ir cr$ \"\"\"\"'.split())  # lista subjetiva de descartes\n",
    "ufs = set('AC AL AP AM BA CE DF ES GO MA MT MS MG PA PB PR PE PI RJ RN RS RO RR SC SP SE TO'.lower().split())\n",
    "descarte |= ufs  # retirar palavras iguais a siglas de UF em caixa baixa\n",
    "dadoware = sorted(adicoes | comkit - descarte, key=ordem)\n",
    "\n",
    "with open('dadoware.txt', 'wt', encoding='ascii') as fp:\n",
    "    fp.write(''.join('{}\\t{}\\n'.format(chave, palavra) for chave, palavra in zip(dados5, dadoware)))\n",
    "    \n",
    "!wc 'dadoware.txt'"
   ]
  },
  {
   "cell_type": "code",
   "execution_count": null,
   "metadata": {
    "collapsed": true
   },
   "outputs": [],
   "source": []
  }
 ],
 "metadata": {
  "kernelspec": {
   "display_name": "Python 3",
   "language": "python",
   "name": "python3"
  },
  "language_info": {
   "codemirror_mode": {
    "name": "ipython",
    "version": 3
   },
   "file_extension": ".py",
   "mimetype": "text/x-python",
   "name": "python",
   "nbconvert_exporter": "python",
   "pygments_lexer": "ipython3",
   "version": "3.5.1"
  }
 },
 "nbformat": 4,
 "nbformat_minor": 0
}
