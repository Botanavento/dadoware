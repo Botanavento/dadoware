{
 "cells": [
  {
   "cell_type": "markdown",
   "metadata": {},
   "source": [
    "# Montar lista de palavras"
   ]
  },
  {
   "cell_type": "code",
   "execution_count": null,
   "metadata": {
    "collapsed": false
   },
   "outputs": [],
   "source": [
    "with open('fontes/filtered.txt', encoding='ascii') as fp:\n",
    "    filtradas = [lin.strip() for lin in fp]\n",
    "\n",
    "len(filtradas), filtradas[:10], filtradas[-10:]"
   ]
  },
  {
   "cell_type": "code",
   "execution_count": null,
   "metadata": {
    "collapsed": false
   },
   "outputs": [],
   "source": [
    "with open('fontes/dicewarekit.txt', encoding='ascii') as fp:\n",
    "    dwkit = [lin.strip() for lin in fp if lin.strip()]\n",
    "\n",
    "len(dwkit), dwkit[:10], dwkit[-10:]    "
   ]
  },
  {
   "cell_type": "code",
   "execution_count": null,
   "metadata": {
    "collapsed": false
   },
   "outputs": [],
   "source": [
    "comkit = set(filtradas) | set(dwkit)\n",
    "len(comkit), len(comkit) - 6**5"
   ]
  },
  {
   "cell_type": "code",
   "execution_count": null,
   "metadata": {
    "collapsed": false
   },
   "outputs": [],
   "source": [
    "def so_ascii(palavras):\n",
    "    ok = []\n",
    "    for palavra in palavras:\n",
    "        try:\n",
    "            palavra.encode('ASCII')\n",
    "        except UnicodeEncodeError:\n",
    "            continue\n",
    "        ok.append(palavra)\n",
    "    return ok\n",
    "        \n",
    "so_ascii('alfa ação bravo'.split())\n",
    "        "
   ]
  },
  {
   "cell_type": "code",
   "execution_count": null,
   "metadata": {
    "collapsed": false
   },
   "outputs": [],
   "source": [
    "with open('fontes/molho-especial.txt', encoding='utf8') as fp:\n",
    "    molho = []\n",
    "    for lin in (l.strip() for l in fp):\n",
    "        if not lin or lin.startswith('#'):\n",
    "            continue\n",
    "        molho.extend(lin.split())\n",
    "\n",
    "molho = so_ascii(molho)\n",
    "len(molho), ' '.join(molho)"
   ]
  },
  {
   "cell_type": "code",
   "execution_count": null,
   "metadata": {
    "collapsed": false
   },
   "outputs": [],
   "source": [
    "anos = [str(ano) for ano in range(1960, 2021)]\n",
    "dias = ['{}a-feira'.format(i) for i in range(2, 7)]\n",
    "dias"
   ]
  },
  {
   "cell_type": "code",
   "execution_count": null,
   "metadata": {
    "collapsed": false
   },
   "outputs": [],
   "source": [
    "romanNumeralMap = (('M',  1000),\n",
    "                   ('CM', 900),\n",
    "                   ('D',  500),\n",
    "                   ('CD', 400),\n",
    "                   ('C',  100),\n",
    "                   ('XC', 90),\n",
    "                   ('L',  50),\n",
    "                   ('XL', 40),\n",
    "                   ('X',  10),\n",
    "                   ('IX', 9),\n",
    "                   ('V',  5),\n",
    "                   ('IV', 4),\n",
    "                   ('I',  1))\n",
    "\n",
    "def toRoman(n):\n",
    "    result = ''\n",
    "    for numeral, integer in romanNumeralMap:\n",
    "        while n >= integer:\n",
    "            result += numeral\n",
    "            n -= integer\n",
    "    return result\n",
    "\n",
    "romanos = [toRoman(i) for i in range(1, 22)]\n",
    "romanos.extend(r[0] for r in reversed(romanNumeralMap[:8]))\n",
    "' '.join(romanos)"
   ]
  },
  {
   "cell_type": "code",
   "execution_count": null,
   "metadata": {
    "collapsed": true
   },
   "outputs": [],
   "source": [
    "adicoes = set(molho + anos + dias + romanos + ['correto'])"
   ]
  },
  {
   "cell_type": "code",
   "execution_count": null,
   "metadata": {
    "collapsed": false
   },
   "outputs": [],
   "source": [
    "len(adicoes | comkit), len(adicoes & comkit)"
   ]
  },
  {
   "cell_type": "code",
   "execution_count": null,
   "metadata": {
    "collapsed": false
   },
   "outputs": [],
   "source": [
    "import itertools\n",
    "dados5 = list(''.join(dados) for dados in itertools.product('123456', repeat=5))\n",
    "len(dados5)"
   ]
  },
  {
   "cell_type": "code",
   "execution_count": null,
   "metadata": {
    "collapsed": false
   },
   "outputs": [],
   "source": [
    "import string\n",
    "\n",
    "minusculas = set(string.ascii_lowercase + '-/')\n",
    "\n",
    "def ordem(palavra):\n",
    "    palavra = palavra.lower()\n",
    "    if set(palavra) - minusculas:\n",
    "        if palavra[0] in string.digits:\n",
    "            try:\n",
    "                n = int(palavra)\n",
    "            except ValueError:\n",
    "                palavra = '~' + palavra\n",
    "            else:\n",
    "                palavra = '~~{:20f}'.format(n)\n",
    "        else:\n",
    "            palavra = '~~~' + palavra\n",
    "    if palavra[0] == '-':\n",
    "       palavra = '~~~~' + palavra\n",
    "    return palavra\n",
    "    \n",
    "descarte = set('ser/ir cr$ \"\"\"\"'.split())  # lista subjetiva de descartes\n",
    "ufs = set('AC AL AP AM BA CE DF ES GO MA MT MS MG PA PB PR PE PI RJ RN RS RO RR SC SP SE TO'.lower().split())\n",
    "descarte |= ufs  # retirar palavras iguais a siglas de UF em caixa baixa\n",
    "dadoware = sorted(adicoes | comkit - descarte, key=ordem)\n",
    "\n",
    "assert all(palavra in dadoware for palavra in 'correto cavalo bateria grampo'.split())  # https://xkcd.com/936/\n",
    "\n",
    "with open('dadoware.txt', 'wt', encoding='ascii') as fp:\n",
    "    fp.write(''.join('{} {}\\n'.format(chave, palavra) for chave, palavra in zip(dados5, dadoware)))\n",
    "    \n",
    "!wc 'dadoware.txt'"
   ]
  },
  {
   "cell_type": "code",
   "execution_count": null,
   "metadata": {
    "collapsed": true
   },
   "outputs": [],
   "source": [
    "use_for_checking_printout = '''\n",
    "with open('dadoware-conf.txt', 'wt', encoding='ascii') as fp:\n",
    "    for chave, palavra in list(zip(dados5, dadoware))[::216]:\n",
    "        fp.write('{} {}\\n'.format(chave, palavra))\n",
    "'''"
   ]
  }
 ],
 "metadata": {
  "kernelspec": {
   "display_name": "Python 3",
   "language": "python",
   "name": "python3"
  },
  "language_info": {
   "codemirror_mode": {
    "name": "ipython",
    "version": 3
   },
   "file_extension": ".py",
   "mimetype": "text/x-python",
   "name": "python",
   "nbconvert_exporter": "python",
   "pygments_lexer": "ipython3",
   "version": "3.5.1"
  }
 },
 "nbformat": 4,
 "nbformat_minor": 0
}
